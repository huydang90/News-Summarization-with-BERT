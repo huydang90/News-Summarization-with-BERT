{
  "nbformat": 4,
  "nbformat_minor": 0,
  "metadata": {
    "colab": {
      "name": "1. News Summarization with BERT - Data Preprocessing.ipynb",
      "provenance": [],
      "collapsed_sections": []
    },
    "kernelspec": {
      "name": "python3",
      "display_name": "Python 3"
    }
  },
  "cells": [
    {
      "cell_type": "code",
      "metadata": {
        "id": "y2RoskrgTpSc",
        "colab_type": "code",
        "colab": {}
      },
      "source": [
        "#Import libraries \n",
        "\n",
        "import time\n",
        "import os\n",
        "import os.path\n",
        "from scipy import ndimage\n",
        "from scipy import misc\n",
        "from io import StringIO\n",
        "import matplotlib as mpl\n",
        "import matplotlib.pyplot as plt\n",
        "from matplotlib import gridspec\n",
        "%matplotlib inline\n",
        "import urllib\n",
        "import pandas as pd\n",
        "import numpy as np\n"
      ],
      "execution_count": 0,
      "outputs": []
    },
    {
      "cell_type": "markdown",
      "metadata": {
        "id": "AVWJTLUmVLp_",
        "colab_type": "text"
      },
      "source": [
        "### Get data"
      ]
    },
    {
      "cell_type": "code",
      "metadata": {
        "id": "PrM7pICST-Ot",
        "colab_type": "code",
        "colab": {}
      },
      "source": [
        "#Mount Gdrive\n",
        "\n",
        "from google.colab import drive\n",
        "drive.mount('/content/drive')\n"
      ],
      "execution_count": 0,
      "outputs": []
    },
    {
      "cell_type": "code",
      "metadata": {
        "id": "eT20pGpzUBe8",
        "colab_type": "code",
        "colab": {}
      },
      "source": [
        "#Untar file\n",
        "!tar -xvf complete.tar"
      ],
      "execution_count": 0,
      "outputs": []
    },
    {
      "cell_type": "markdown",
      "metadata": {
        "id": "190nGgo9VPzi",
        "colab_type": "text"
      },
      "source": [
        "### Process data"
      ]
    },
    {
      "cell_type": "code",
      "metadata": {
        "id": "7LUFiFtrU4yY",
        "colab_type": "code",
        "colab": {}
      },
      "source": [
        "#Export and install Stanford CoreNLP for data tokenization\n",
        "\n",
        "!export CLASSPATH=/path/to/stanford-corenlp-full-2017-06-09/stanford-corenlp-3.8.0.jar\n"
      ],
      "execution_count": 0,
      "outputs": []
    },
    {
      "cell_type": "code",
      "metadata": {
        "id": "AgA4oO2jVhcY",
        "colab_type": "code",
        "colab": {}
      },
      "source": [
        "#Split sentences and tokenize\n",
        "\n",
        "RAW_PATH = 'File path of raw untarred data files'\n",
        "TOKENIZED_PATH = 'File path of saved processed files'\n",
        "\n",
        "!python preprocess.py -mode tokenize -raw_path RAW_PATH -save_path TOKENIZED_PATH\n"
      ],
      "execution_count": 0,
      "outputs": []
    },
    {
      "cell_type": "code",
      "metadata": {
        "id": "6C4_SN14WEdC",
        "colab_type": "code",
        "colab": {}
      },
      "source": [
        "#Format tokenized file to json format for Pytorch processing\n",
        "\n",
        "JSON_PATH = 'File path of generated json files'\n",
        "MAP_PATH = 'Directory containing the urls files'\n",
        "\n",
        "!python preprocess.py -mode format_to_lines -raw_path RAW_PATH -save_path JSON_PATH -n_cpus 1 -use_bert_basic_tokenizer false -map_path MAP_PATH\n"
      ],
      "execution_count": 0,
      "outputs": []
    },
    {
      "cell_type": "code",
      "metadata": {
        "id": "TpK9ZyKoWm3C",
        "colab_type": "code",
        "colab": {}
      },
      "source": [
        "#Format json files to Pytorch files\n",
        "\n",
        "BERT_DATA_PATH = 'File path for converted binary files data'\n",
        "\n",
        "!python preprocess.py -mode format_to_bert -raw_path JSON_PATH -save_path BERT_DATA_PATH  -lower -n_cpus 1 -log_file ../logs/preprocess.log\n"
      ],
      "execution_count": 0,
      "outputs": []
    }
  ]
}